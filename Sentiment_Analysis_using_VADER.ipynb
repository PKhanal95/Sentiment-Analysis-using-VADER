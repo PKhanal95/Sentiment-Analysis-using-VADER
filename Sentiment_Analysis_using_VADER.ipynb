{
  "nbformat": 4,
  "nbformat_minor": 0,
  "metadata": {
    "colab": {
      "provenance": []
    },
    "kernelspec": {
      "name": "python3",
      "display_name": "Python 3"
    },
    "language_info": {
      "name": "python"
    }
  },
  "cells": [
    {
      "cell_type": "code",
      "execution_count": 3,
      "metadata": {
        "colab": {
          "base_uri": "https://localhost:8080/"
        },
        "id": "rf8LH1t40GmQ",
        "outputId": "7251de74-48f6-408d-f241-5ca6b37d1877"
      },
      "outputs": [
        {
          "output_type": "stream",
          "name": "stdout",
          "text": [
            "Requirement already satisfied: vaderSentiment in /usr/local/lib/python3.11/dist-packages (3.3.2)\n",
            "Requirement already satisfied: requests in /usr/local/lib/python3.11/dist-packages (from vaderSentiment) (2.32.3)\n",
            "Requirement already satisfied: charset-normalizer<4,>=2 in /usr/local/lib/python3.11/dist-packages (from requests->vaderSentiment) (3.4.1)\n",
            "Requirement already satisfied: idna<4,>=2.5 in /usr/local/lib/python3.11/dist-packages (from requests->vaderSentiment) (3.10)\n",
            "Requirement already satisfied: urllib3<3,>=1.21.1 in /usr/local/lib/python3.11/dist-packages (from requests->vaderSentiment) (2.3.0)\n",
            "Requirement already satisfied: certifi>=2017.4.17 in /usr/local/lib/python3.11/dist-packages (from requests->vaderSentiment) (2025.1.31)\n",
            "\n",
            "1st Statement:\n",
            "Overall sentiment dictionary is :  {'neg': 0.0, 'neu': 0.465, 'pos': 0.535, 'compound': 0.7845}\n",
            "Sentence was rated as  0.0 % Negative\n",
            "Sentence was rated as  46.5 % Neutral\n",
            "Sentence was rated as  53.5 % Positive\n",
            "Sentence Overall Rated As Positive\n",
            "\n",
            "2nd Statement:\n",
            "Overall sentiment dictionary is :  {'neg': 0.0, 'neu': 1.0, 'pos': 0.0, 'compound': 0.0}\n",
            "Sentence was rated as  0.0 % Negative\n",
            "Sentence was rated as  100.0 % Neutral\n",
            "Sentence was rated as  0.0 % Positive\n",
            "Sentence Overall Rated As Neutral\n",
            "\n",
            "3rd Statement:\n",
            "Overall sentiment dictionary is :  {'neg': 0.492, 'neu': 0.508, 'pos': 0.0, 'compound': -0.4404}\n",
            "Sentence was rated as  49.2 % Negative\n",
            "Sentence was rated as  50.8 % Neutral\n",
            "Sentence was rated as  0.0 % Positive\n",
            "Sentence Overall Rated As Negative\n"
          ]
        }
      ],
      "source": [
        "!pip install vaderSentiment\n",
        "\n",
        "# import SentimentIntensityAnalyzer class from vaderSentiment.vaderSentiment module.\n",
        "from vaderSentiment.vaderSentiment import SentimentIntensityAnalyzer\n",
        "\n",
        "# Function to print sentiments of the sentence.\n",
        "def sentiment_scores(sent):\n",
        "\n",
        "    # Create a SentimentIntensityAnalyzer object.\n",
        "    sid_obj = SentimentIntensityAnalyzer()\n",
        "\n",
        "    # polarity_scores method of SentimentIntensityAnalyzer object gives a sentiment dictionary.\n",
        "    # which contains pos, neg, neu, and compound scores.\n",
        "    sentiment_dict = sid_obj.polarity_scores(sent)\n",
        "\n",
        "    print(\"Overall sentiment dictionary is : \", sentiment_dict)\n",
        "    print(\"Sentence was rated as \", sentiment_dict['neg']*100, \"% Negative\")\n",
        "    print(\"Sentence was rated as \", sentiment_dict['neu']*100, \"% Neutral\")\n",
        "    print(\"Sentence was rated as \", sentiment_dict['pos']*100, \"% Positive\")\n",
        "\n",
        "    print(\"Sentence Overall Rated As\", end=\" \")\n",
        "\n",
        "    # Decide sentiment as positive, negative, or neutral\n",
        "    if sentiment_dict['compound'] >= 0.05 :\n",
        "        print(\"Positive\")\n",
        "    elif sentiment_dict['compound'] <= -0.05 :\n",
        "        print(\"Negative\")\n",
        "    else :\n",
        "        print(\"Neutral\")\n",
        "\n",
        "# Driver code to test the function\n",
        "if __name__ == \"__main__\" :\n",
        "\n",
        "    print(\"\\n1st Statement:\")\n",
        "    sent = \"Nepal is the best country to spend holiday.\"\n",
        "    sentiment_scores(sent)\n",
        "\n",
        "    print(\"\\n2nd Statement:\")\n",
        "    sent = \"Nepal is a republic country.\"\n",
        "    sentiment_scores(sent)\n",
        "\n",
        "    print(\"\\n3rd Statement:\")\n",
        "    sent = \"Nepal has dirty roads.\"\n",
        "    sentiment_scores(sent)\n"
      ]
    }
  ]
}